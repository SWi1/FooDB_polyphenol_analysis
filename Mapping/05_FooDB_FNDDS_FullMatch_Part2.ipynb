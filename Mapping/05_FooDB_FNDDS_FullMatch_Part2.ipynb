{
 "cells": [
  {
   "attachments": {},
   "cell_type": "markdown",
   "metadata": {},
   "source": [
    "# Matching FooDB to ASA24 Ingredient Descriptions\n",
    "Stephanie Wilson  \n",
    "January 2023\n",
    "\n",
    "## Step 5: Matching ASA24 to FooDB\n",
    "### Part 2: Ingredient Description Dependency Parsing for missing code matches\n",
    "\n",
    "__Required Input Files__\n",
    "\n",
    "  - *asa_descripcleaned_codematched.csv* - Output from 04_FooDB_FullMatch_Part1, all ASA24 ingredient descriptions from FL100\n",
    "\n",
    "__Information__  \n",
    "This script runs a natural language processing algorithm on ASA24 ingredient descriptions from the FL100 study. \n",
    "\n",
    "    1) Apply nlp to each row and examine parts of speech, tags, and dependencies for ingredient tokens.\n",
    "    2) Dependency parsing and add columns to food description dataframe.\n",
    "\n",
    "\n",
    "__Output__\n",
    "  \n",
    "  - *asa_foodb_descrip_dependencies.csv* - Input data but with dependency token columns added. "
   ]
  },
  {
   "cell_type": "code",
   "execution_count": 6,
   "metadata": {},
   "outputs": [],
   "source": [
    "#Load modules\n",
    "import os\n",
    "import pandas as pd\n",
    "import numpy as np\n",
    "import spacy\n",
    "import en_core_web_md\n",
    "from spacy import displacy\n",
    "nlp = en_core_web_md.load()"
   ]
  },
  {
   "cell_type": "code",
   "execution_count": null,
   "metadata": {},
   "outputs": [
    {
     "data": {
      "text/plain": [
       "'/Users/stephanie.wilson/Desktop/SYNC/Scripts/FooDB_FNDDS'"
      ]
     },
     "execution_count": 3,
     "metadata": {},
     "output_type": "execute_result"
    }
   ],
   "source": [
    "#Ensure working directory is the project folder\n",
    "mapping = os.getcwd()\n",
    "mapping"
   ]
  },
  {
   "cell_type": "code",
   "execution_count": 2,
   "metadata": {},
   "outputs": [],
   "source": [
    "#Extract observations that are missing foodB descriptions\n",
    "asa = pd.read_csv('data/asa_descripcleaned_codematched.csv')"
   ]
  },
  {
   "attachments": {},
   "cell_type": "markdown",
   "metadata": {},
   "source": [
    "### 1) Apply nlp to each row, and examine POS"
   ]
  },
  {
   "cell_type": "code",
   "execution_count": 3,
   "metadata": {},
   "outputs": [],
   "source": [
    "#Apply nlp function on each food description that will be eventualkly searched against FooDB\n",
    "asa_nlp = asa['Ingredient_description'].apply(lambda x: nlp(x))"
   ]
  },
  {
   "cell_type": "code",
   "execution_count": 4,
   "metadata": {},
   "outputs": [
    {
     "data": {
      "text/plain": [
       "['_',\n",
       " '__bytes__',\n",
       " '__class__',\n",
       " '__delattr__',\n",
       " '__dir__',\n",
       " '__doc__',\n",
       " '__eq__',\n",
       " '__format__',\n",
       " '__ge__',\n",
       " '__getattribute__',\n",
       " '__getitem__',\n",
       " '__gt__',\n",
       " '__hash__',\n",
       " '__init__',\n",
       " '__init_subclass__',\n",
       " '__iter__',\n",
       " '__le__',\n",
       " '__len__',\n",
       " '__lt__',\n",
       " '__ne__',\n",
       " '__new__',\n",
       " '__pyx_vtable__',\n",
       " '__reduce__',\n",
       " '__reduce_ex__',\n",
       " '__repr__',\n",
       " '__setattr__',\n",
       " '__setstate__',\n",
       " '__sizeof__',\n",
       " '__str__',\n",
       " '__subclasshook__',\n",
       " '__unicode__',\n",
       " '_bulk_merge',\n",
       " '_context',\n",
       " '_get_array_attrs',\n",
       " '_realloc',\n",
       " '_vector',\n",
       " '_vector_norm',\n",
       " 'cats',\n",
       " 'char_span',\n",
       " 'copy',\n",
       " 'count_by',\n",
       " 'doc',\n",
       " 'ents',\n",
       " 'extend_tensor',\n",
       " 'from_array',\n",
       " 'from_bytes',\n",
       " 'from_dict',\n",
       " 'from_disk',\n",
       " 'from_docs',\n",
       " 'from_json',\n",
       " 'get_extension',\n",
       " 'get_lca_matrix',\n",
       " 'has_annotation',\n",
       " 'has_extension',\n",
       " 'has_unknown_spaces',\n",
       " 'has_vector',\n",
       " 'is_nered',\n",
       " 'is_parsed',\n",
       " 'is_sentenced',\n",
       " 'is_tagged',\n",
       " 'lang',\n",
       " 'lang_',\n",
       " 'mem',\n",
       " 'noun_chunks',\n",
       " 'noun_chunks_iterator',\n",
       " 'remove_extension',\n",
       " 'retokenize',\n",
       " 'sentiment',\n",
       " 'sents',\n",
       " 'set_ents',\n",
       " 'set_extension',\n",
       " 'similarity',\n",
       " 'spans',\n",
       " 'tensor',\n",
       " 'text',\n",
       " 'text_with_ws',\n",
       " 'to_array',\n",
       " 'to_bytes',\n",
       " 'to_dict',\n",
       " 'to_disk',\n",
       " 'to_json',\n",
       " 'to_utf8_array',\n",
       " 'user_data',\n",
       " 'user_hooks',\n",
       " 'user_span_hooks',\n",
       " 'user_token_hooks',\n",
       " 'vector',\n",
       " 'vector_norm',\n",
       " 'vocab']"
      ]
     },
     "execution_count": 4,
     "metadata": {},
     "output_type": "execute_result"
    }
   ],
   "source": [
    "#If we want to see all attributes from nlp features, we can run *dir*() on the first row of descriptions\n",
    "dir(asa_nlp[0])"
   ]
  },
  {
   "cell_type": "code",
   "execution_count": 41,
   "metadata": {},
   "outputs": [
    {
     "data": {
      "text/plain": [
       "turkey breast sliced prepackaged"
      ]
     },
     "execution_count": 41,
     "metadata": {},
     "output_type": "execute_result"
    }
   ],
   "source": [
    "asa_nlp[254]"
   ]
  },
  {
   "cell_type": "code",
   "execution_count": 45,
   "metadata": {},
   "outputs": [
    {
     "name": "stdout",
     "output_type": "stream",
     "text": [
      "Token: cookies \n",
      "Part of Speech: NOUN \n",
      "Tag: NNS , noun, plural \n",
      "Dependency: compound , compound \n",
      "\n",
      "Token: coconut \n",
      "Part of Speech: NOUN \n",
      "Tag: NN , noun, singular or mass \n",
      "Dependency: compound , compound \n",
      "\n",
      "Token: macaroon \n",
      "Part of Speech: NOUN \n",
      "Tag: NN , noun, singular or mass \n",
      "Dependency: ROOT , root \n",
      "\n"
     ]
    }
   ],
   "source": [
    "# Examine parts of speech from the first food description\n",
    "for tok in asa_nlp[796]:\n",
    "    pos = tok.pos_ #coarse-grain POS\n",
    "    tag = tok.tag_ #fine-grain POS\n",
    "    dep = tok.dep_ #word dependency\n",
    "    print(\n",
    "    'Token:', tok.text,\n",
    "    '\\nPart of Speech:', pos,\n",
    "    '\\nTag:', tag, \",\", spacy.explain(tag),\n",
    "    '\\nDependency:', dep, \",\", spacy.explain(dep),\n",
    "    \"\\n\"\n",
    ")"
   ]
  },
  {
   "cell_type": "code",
   "execution_count": 47,
   "metadata": {},
   "outputs": [
    {
     "data": {
      "text/html": [
       "<span class=\"tex2jax_ignore\"><svg xmlns=\"http://www.w3.org/2000/svg\" xmlns:xlink=\"http://www.w3.org/1999/xlink\" xml:lang=\"en\" id=\"c309dc8bb4b245cfa81f3998410f0c72-0\" class=\"displacy\" width=\"1275\" height=\"399.5\" direction=\"ltr\" style=\"max-width: none; height: 399.5px; color: #000000; background: #ffffff; font-family: Arial; direction: ltr\">\n",
       "<text class=\"displacy-token\" fill=\"currentColor\" text-anchor=\"middle\" y=\"309.5\">\n",
       "    <tspan class=\"displacy-word\" fill=\"currentColor\" x=\"50\">chicken</tspan>\n",
       "    <tspan class=\"displacy-tag\" dy=\"2em\" fill=\"currentColor\" x=\"50\">NOUN</tspan>\n",
       "</text>\n",
       "\n",
       "<text class=\"displacy-token\" fill=\"currentColor\" text-anchor=\"middle\" y=\"309.5\">\n",
       "    <tspan class=\"displacy-word\" fill=\"currentColor\" x=\"225\">breast</tspan>\n",
       "    <tspan class=\"displacy-tag\" dy=\"2em\" fill=\"currentColor\" x=\"225\">NOUN</tspan>\n",
       "</text>\n",
       "\n",
       "<text class=\"displacy-token\" fill=\"currentColor\" text-anchor=\"middle\" y=\"309.5\">\n",
       "    <tspan class=\"displacy-word\" fill=\"currentColor\" x=\"400\">deli</tspan>\n",
       "    <tspan class=\"displacy-tag\" dy=\"2em\" fill=\"currentColor\" x=\"400\">NOUN</tspan>\n",
       "</text>\n",
       "\n",
       "<text class=\"displacy-token\" fill=\"currentColor\" text-anchor=\"middle\" y=\"309.5\">\n",
       "    <tspan class=\"displacy-word\" fill=\"currentColor\" x=\"575\">rotisserie</tspan>\n",
       "    <tspan class=\"displacy-tag\" dy=\"2em\" fill=\"currentColor\" x=\"575\">NOUN</tspan>\n",
       "</text>\n",
       "\n",
       "<text class=\"displacy-token\" fill=\"currentColor\" text-anchor=\"middle\" y=\"309.5\">\n",
       "    <tspan class=\"displacy-word\" fill=\"currentColor\" x=\"750\">seasoned</tspan>\n",
       "    <tspan class=\"displacy-tag\" dy=\"2em\" fill=\"currentColor\" x=\"750\">VERB</tspan>\n",
       "</text>\n",
       "\n",
       "<text class=\"displacy-token\" fill=\"currentColor\" text-anchor=\"middle\" y=\"309.5\">\n",
       "    <tspan class=\"displacy-word\" fill=\"currentColor\" x=\"925\">sliced</tspan>\n",
       "    <tspan class=\"displacy-tag\" dy=\"2em\" fill=\"currentColor\" x=\"925\">NOUN</tspan>\n",
       "</text>\n",
       "\n",
       "<text class=\"displacy-token\" fill=\"currentColor\" text-anchor=\"middle\" y=\"309.5\">\n",
       "    <tspan class=\"displacy-word\" fill=\"currentColor\" x=\"1100\">prepackaged</tspan>\n",
       "    <tspan class=\"displacy-tag\" dy=\"2em\" fill=\"currentColor\" x=\"1100\">VERB</tspan>\n",
       "</text>\n",
       "\n",
       "<g class=\"displacy-arrow\">\n",
       "    <path class=\"displacy-arc\" id=\"arrow-c309dc8bb4b245cfa81f3998410f0c72-0-0\" stroke-width=\"2px\" d=\"M70,264.5 C70,177.0 215.0,177.0 215.0,264.5\" fill=\"none\" stroke=\"currentColor\"/>\n",
       "    <text dy=\"1.25em\" style=\"font-size: 0.8em; letter-spacing: 1px\">\n",
       "        <textPath xlink:href=\"#arrow-c309dc8bb4b245cfa81f3998410f0c72-0-0\" class=\"displacy-label\" startOffset=\"50%\" side=\"left\" fill=\"currentColor\" text-anchor=\"middle\">compound</textPath>\n",
       "    </text>\n",
       "    <path class=\"displacy-arrowhead\" d=\"M70,266.5 L62,254.5 78,254.5\" fill=\"currentColor\"/>\n",
       "</g>\n",
       "\n",
       "<g class=\"displacy-arrow\">\n",
       "    <path class=\"displacy-arc\" id=\"arrow-c309dc8bb4b245cfa81f3998410f0c72-0-1\" stroke-width=\"2px\" d=\"M245,264.5 C245,177.0 390.0,177.0 390.0,264.5\" fill=\"none\" stroke=\"currentColor\"/>\n",
       "    <text dy=\"1.25em\" style=\"font-size: 0.8em; letter-spacing: 1px\">\n",
       "        <textPath xlink:href=\"#arrow-c309dc8bb4b245cfa81f3998410f0c72-0-1\" class=\"displacy-label\" startOffset=\"50%\" side=\"left\" fill=\"currentColor\" text-anchor=\"middle\">compound</textPath>\n",
       "    </text>\n",
       "    <path class=\"displacy-arrowhead\" d=\"M245,266.5 L237,254.5 253,254.5\" fill=\"currentColor\"/>\n",
       "</g>\n",
       "\n",
       "<g class=\"displacy-arrow\">\n",
       "    <path class=\"displacy-arc\" id=\"arrow-c309dc8bb4b245cfa81f3998410f0c72-0-2\" stroke-width=\"2px\" d=\"M420,264.5 C420,177.0 565.0,177.0 565.0,264.5\" fill=\"none\" stroke=\"currentColor\"/>\n",
       "    <text dy=\"1.25em\" style=\"font-size: 0.8em; letter-spacing: 1px\">\n",
       "        <textPath xlink:href=\"#arrow-c309dc8bb4b245cfa81f3998410f0c72-0-2\" class=\"displacy-label\" startOffset=\"50%\" side=\"left\" fill=\"currentColor\" text-anchor=\"middle\">nsubj</textPath>\n",
       "    </text>\n",
       "    <path class=\"displacy-arrowhead\" d=\"M420,266.5 L412,254.5 428,254.5\" fill=\"currentColor\"/>\n",
       "</g>\n",
       "\n",
       "<g class=\"displacy-arrow\">\n",
       "    <path class=\"displacy-arc\" id=\"arrow-c309dc8bb4b245cfa81f3998410f0c72-0-3\" stroke-width=\"2px\" d=\"M770,264.5 C770,177.0 915.0,177.0 915.0,264.5\" fill=\"none\" stroke=\"currentColor\"/>\n",
       "    <text dy=\"1.25em\" style=\"font-size: 0.8em; letter-spacing: 1px\">\n",
       "        <textPath xlink:href=\"#arrow-c309dc8bb4b245cfa81f3998410f0c72-0-3\" class=\"displacy-label\" startOffset=\"50%\" side=\"left\" fill=\"currentColor\" text-anchor=\"middle\">amod</textPath>\n",
       "    </text>\n",
       "    <path class=\"displacy-arrowhead\" d=\"M770,266.5 L762,254.5 778,254.5\" fill=\"currentColor\"/>\n",
       "</g>\n",
       "\n",
       "<g class=\"displacy-arrow\">\n",
       "    <path class=\"displacy-arc\" id=\"arrow-c309dc8bb4b245cfa81f3998410f0c72-0-4\" stroke-width=\"2px\" d=\"M595,264.5 C595,89.5 920.0,89.5 920.0,264.5\" fill=\"none\" stroke=\"currentColor\"/>\n",
       "    <text dy=\"1.25em\" style=\"font-size: 0.8em; letter-spacing: 1px\">\n",
       "        <textPath xlink:href=\"#arrow-c309dc8bb4b245cfa81f3998410f0c72-0-4\" class=\"displacy-label\" startOffset=\"50%\" side=\"left\" fill=\"currentColor\" text-anchor=\"middle\">dobj</textPath>\n",
       "    </text>\n",
       "    <path class=\"displacy-arrowhead\" d=\"M920.0,266.5 L928.0,254.5 912.0,254.5\" fill=\"currentColor\"/>\n",
       "</g>\n",
       "\n",
       "<g class=\"displacy-arrow\">\n",
       "    <path class=\"displacy-arc\" id=\"arrow-c309dc8bb4b245cfa81f3998410f0c72-0-5\" stroke-width=\"2px\" d=\"M595,264.5 C595,2.0 1100.0,2.0 1100.0,264.5\" fill=\"none\" stroke=\"currentColor\"/>\n",
       "    <text dy=\"1.25em\" style=\"font-size: 0.8em; letter-spacing: 1px\">\n",
       "        <textPath xlink:href=\"#arrow-c309dc8bb4b245cfa81f3998410f0c72-0-5\" class=\"displacy-label\" startOffset=\"50%\" side=\"left\" fill=\"currentColor\" text-anchor=\"middle\">advcl</textPath>\n",
       "    </text>\n",
       "    <path class=\"displacy-arrowhead\" d=\"M1100.0,266.5 L1108.0,254.5 1092.0,254.5\" fill=\"currentColor\"/>\n",
       "</g>\n",
       "</svg></span>"
      ],
      "text/plain": [
       "<IPython.core.display.HTML object>"
      ]
     },
     "metadata": {},
     "output_type": "display_data"
    }
   ],
   "source": [
    "displacy.render(asa_nlp[21], style = 'dep')"
   ]
  },
  {
   "cell_type": "code",
   "execution_count": null,
   "metadata": {},
   "outputs": [],
   "source": []
  },
  {
   "attachments": {},
   "cell_type": "markdown",
   "metadata": {},
   "source": [
    "### 2) Dependency Parsing of Ingredient Descriptions\n",
    "\n",
    "Create functions to pull out specific dependencies"
   ]
  },
  {
   "cell_type": "code",
   "execution_count": 14,
   "metadata": {},
   "outputs": [],
   "source": [
    "# get roots\n",
    "def get_root(doc):    \n",
    "    DEPdata = []\n",
    "\n",
    "    for tok in doc:\n",
    "        dep = tok.dep_\n",
    "        if dep == 'ROOT':\n",
    "            DEPdata.append(tok)\n",
    "    return(DEPdata)  \n",
    "    \n",
    "# get compound\n",
    "def get_compound(doc):    \n",
    "    DEPdata = []\n",
    "\n",
    "    for tok in doc:\n",
    "        dep = tok.dep_\n",
    "        if dep == 'compound':\n",
    "            DEPdata.append(tok)\n",
    "    return(DEPdata)  \n",
    "\n",
    "# get nominal subjects\n",
    "def get_nsubj(doc):    \n",
    "    DEPdata = []\n",
    "\n",
    "    for tok in doc:\n",
    "        dep = tok.dep_\n",
    "        if dep == 'nsubj':\n",
    "            DEPdata.append(tok)\n",
    "    return(DEPdata)    \n",
    "\n",
    "# get adjectival modifier \n",
    "def get_amod(doc):    \n",
    "    DEPdata = []\n",
    "\n",
    "    for tok in doc:\n",
    "        dep = tok.dep_\n",
    "        if dep == 'amod':\n",
    "            DEPdata.append(tok)\n",
    "    return(DEPdata)  \n",
    "\n",
    "# get noun modifier \n",
    "def get_nmod(doc):    \n",
    "    DEPdata = []\n",
    "\n",
    "    for tok in doc:\n",
    "        dep = tok.dep_\n",
    "        if dep == 'nmod':\n",
    "            DEPdata.append(tok)\n",
    "    return(DEPdata)  \n",
    "\n",
    "# get noun phrase as adverbial modifier \n",
    "def get_npadvmod(doc):    \n",
    "    DEPdata = []\n",
    "\n",
    "    for tok in doc:\n",
    "        dep = tok.dep_\n",
    "        if dep == 'npadvmod':\n",
    "            DEPdata.append(tok)\n",
    "    return(DEPdata)  \n",
    "\n",
    "# get nominal subject (passive) \n",
    "def get_nsubjpass(doc):    \n",
    "    DEPdata = []\n",
    "\n",
    "    for tok in doc:\n",
    "        dep = tok.dep_\n",
    "        if dep == 'nsubjpass':\n",
    "            DEPdata.append(tok)\n",
    "    return(DEPdata)  \n"
   ]
  },
  {
   "attachments": {},
   "cell_type": "markdown",
   "metadata": {},
   "source": [
    "It was determined from examining the dependency output that tokens registering as a 'compound' accurately described the food, albeit generally. However, not all ingredient descriptions had a compound token, so an order needed to be established to see which dependencies were most important in describing food. \n",
    "\n",
    "The following order was manually found to optimize description accuracy.  \n",
    "  - compound > nsubjpass > nmod > nsubj > amod > npadvmod > ROOT"
   ]
  },
  {
   "cell_type": "code",
   "execution_count": 15,
   "metadata": {},
   "outputs": [],
   "source": [
    "#Apply the above function to all ingredient desecriptions descriptions\n",
    "asa_nlp_dep = pd.DataFrame(asa_nlp.apply(lambda x: get_compound(x)))\n",
    "asa_nlp_dep = asa_nlp_dep.rename(columns = {'Ingredient_description':'compound'}) "
   ]
  },
  {
   "cell_type": "code",
   "execution_count": 17,
   "metadata": {},
   "outputs": [],
   "source": [
    "# Ensure order as listed above\n",
    "# Compound must be first\n",
    "asa_nlp_dep['nsubjpass'] = asa_nlp.apply(lambda x: get_nsubjpass(x))\n",
    "asa_nlp_dep['nmod'] = asa_nlp.apply(lambda x: get_nmod(x))\n",
    "asa_nlp_dep['nsubj'] = asa_nlp.apply(lambda x: get_nsubj(x))\n",
    "asa_nlp_dep['amod'] = asa_nlp.apply(lambda x: get_amod(x))\n",
    "asa_nlp_dep['npadvmod'] = asa_nlp.apply(lambda x: get_npadvmod(x))\n",
    "asa_nlp_dep['ROOT'] = asa_nlp.apply(lambda x: get_root(x))"
   ]
  },
  {
   "cell_type": "code",
   "execution_count": 18,
   "metadata": {},
   "outputs": [
    {
     "data": {
      "text/plain": [
       "['compound', 'nsubjpass', 'nmod', 'nsubj', 'amod', 'npadvmod', 'ROOT']"
      ]
     },
     "execution_count": 18,
     "metadata": {},
     "output_type": "execute_result"
    }
   ],
   "source": [
    "#Ensure correct order\n",
    "list(asa_nlp_dep.columns)"
   ]
  },
  {
   "cell_type": "code",
   "execution_count": 19,
   "metadata": {},
   "outputs": [],
   "source": [
    "asa_nlp_dep['Ingredient_description'] = asa['Ingredient_description']\n",
    "asa_updated = pd.merge(asa, asa_nlp_dep, on = 'Ingredient_description', how = 'left')"
   ]
  },
  {
   "cell_type": "code",
   "execution_count": 23,
   "metadata": {},
   "outputs": [
    {
     "data": {
      "text/plain": [
       "['Ingredient_code',\n",
       " 'Ingredient_description',\n",
       " 'orig_food_id',\n",
       " 'orig_food_common_name',\n",
       " 'food_V2_ID',\n",
       " 'compound',\n",
       " 'nsubjpass',\n",
       " 'nmod',\n",
       " 'nsubj',\n",
       " 'amod',\n",
       " 'npadvmod',\n",
       " 'ROOT']"
      ]
     },
     "execution_count": 23,
     "metadata": {},
     "output_type": "execute_result"
    }
   ],
   "source": [
    "list(asa_updated.columns)"
   ]
  },
  {
   "cell_type": "code",
   "execution_count": 24,
   "metadata": {},
   "outputs": [],
   "source": [
    "# Export the resulting description file with dependencies\n",
    "asa_updated.to_csv('data/asa_foodb_descrip_dependencies.csv', index = None, header = True)"
   ]
  }
 ],
 "metadata": {
  "kernelspec": {
   "display_name": "base",
   "language": "python",
   "name": "python3"
  },
  "language_info": {
   "codemirror_mode": {
    "name": "ipython",
    "version": 3
   },
   "file_extension": ".py",
   "mimetype": "text/x-python",
   "name": "python",
   "nbconvert_exporter": "python",
   "pygments_lexer": "ipython3",
   "version": "3.9.16"
  },
  "orig_nbformat": 4,
  "vscode": {
   "interpreter": {
    "hash": "a7fb5e4ab2ecec768b3cdb5d6b68ea750b87930403d6f19d139ed99f98596544"
   }
  }
 },
 "nbformat": 4,
 "nbformat_minor": 2
}
